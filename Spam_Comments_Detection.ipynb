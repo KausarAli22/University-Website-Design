{
  "nbformat": 4,
  "nbformat_minor": 0,
  "metadata": {
    "colab": {
      "provenance": [],
      "authorship_tag": "ABX9TyPP92+Wy3lfwU/DRPeCO2oy",
      "include_colab_link": true
    },
    "kernelspec": {
      "name": "python3",
      "display_name": "Python 3"
    },
    "language_info": {
      "name": "python"
    }
  },
  "cells": [
    {
      "cell_type": "markdown",
      "metadata": {
        "id": "view-in-github",
        "colab_type": "text"
      },
      "source": [
        "<a href=\"https://colab.research.google.com/github/KausarAli22/College-Website/blob/main/Spam_Comments_Detection.ipynb\" target=\"_parent\"><img src=\"https://colab.research.google.com/assets/colab-badge.svg\" alt=\"Open In Colab\"/></a>"
      ]
    },
    {
      "cell_type": "code",
      "execution_count": null,
      "metadata": {
        "colab": {
          "base_uri": "https://localhost:8080/"
        },
        "id": "EjF1sgdCDdk-",
        "outputId": "a3095c1e-360a-44a1-f367-058727437848"
      },
      "outputs": [
        {
          "output_type": "stream",
          "name": "stdout",
          "text": [
            "                                COMMENT_ID           AUTHOR  \\\n",
            "133    z13gypjrmumhxromj23jyjhhenvdgpuxh04  HarveyIsTheBoss   \n",
            "16     z13bgdvyluihfv11i22rgxwhuvabzz1os04      Zielimeek21   \n",
            "334    z12gcx5hzkayhbmve23ghd3plt2czf2rp04       ArioseRose   \n",
            "60   z12rgllzmwnfuba4h04ch3njgy2fg3ryerg0k     Eanna Cusack   \n",
            "130    z12dzlpo0ueie1go404cfjjwsxf1g1lrtdo      Amir effect   \n",
            "\n",
            "                    DATE                                            CONTENT  \\\n",
            "133  2014-11-05T18:16:55  You gotta say its funny. well not 2 billion wo...   \n",
            "16   2013-11-28T21:49:00                       I'm only checking the views﻿   \n",
            "334  2014-11-13T15:20:31  Don't mind me, I'm just checking what the view...   \n",
            "60   2014-01-20T22:20:59            Im just to check how much views it has﻿   \n",
            "130  2014-11-05T17:18:14  Can somebody wake me up when we get to 3 billi...   \n",
            "\n",
            "     CLASS  \n",
            "133      0  \n",
            "16       0  \n",
            "334      0  \n",
            "60       0  \n",
            "130      0  \n"
          ]
        }
      ],
      "source": [
        "import pandas as pd\n",
        "import numpy as np\n",
        "from sklearn.feature_extraction.text import CountVectorizer\n",
        "from sklearn.model_selection import train_test_split\n",
        "from sklearn.naive_bayes import BernoulliNB\n",
        "\n",
        "data=pd.read_csv(\"/content/Youtube01-Psy.csv\")\n",
        "print(data.sample(5))"
      ]
    },
    {
      "cell_type": "code",
      "source": [
        "data=data[[\"CONTENT\",\"CLASS\"]]\n",
        "print(data.sample(5))"
      ],
      "metadata": {
        "colab": {
          "base_uri": "https://localhost:8080/"
        },
        "id": "cIsYYeOmGEOb",
        "outputId": "ad41f790-8e74-4215-f326-9de84a7a19c3"
      },
      "execution_count": null,
      "outputs": [
        {
          "output_type": "stream",
          "name": "stdout",
          "text": [
            "                                               CONTENT  CLASS\n",
            "341  Free my apps get 1m crdits ! Just click on the...      1\n",
            "277  Hey, join me on tsū, a publishing platform whe...      1\n",
            "53   https://www.facebook.com/pages/Brew-Crew-2014/...      1\n",
            "285  If I knew Korean, this would be even funnier. ...      0\n",
            "194  WAT DA FUCK THIS THE MOST VIEWED VIDEO IN YOUT...      0\n"
          ]
        }
      ]
    },
    {
      "cell_type": "code",
      "source": [
        "data['CLASS']=data['CLASS'].map({0:\"Not Spam Comment\",1:\"Spam Comment\"})\n",
        "print(data.sample(5))"
      ],
      "metadata": {
        "colab": {
          "base_uri": "https://localhost:8080/"
        },
        "id": "KsCkjkGSGtaC",
        "outputId": "88c6594b-4785-453a-8855-6aab1d59ca76"
      },
      "execution_count": null,
      "outputs": [
        {
          "output_type": "stream",
          "name": "stdout",
          "text": [
            "                                               CONTENT             CLASS\n",
            "273  Come and watch my video it is called the odowd...      Spam Comment\n",
            "270  The little PSY is suffering Brain Tumor and on...  Not Spam Comment\n",
            "264  If you pause at 1:39 at the last millisecond y...  Not Spam Comment\n",
            "65           969,210 dislikes like dislike themselves﻿  Not Spam Comment\n",
            "64         the most viewed youtube video of all time?﻿  Not Spam Comment\n"
          ]
        }
      ]
    },
    {
      "cell_type": "code",
      "source": [
        "x=np.array(data[\"CONTENT\"])\n",
        "y=np.array(data[\"CLASS\"])\n",
        "cv=CountVectorizer()\n",
        "x=cv.fit_transform(x)\n",
        "xtrain,xtest,ytrain,ytest=train_test_split(x,y,test_size=0.2,random_state=42)\n",
        "model=BernoulliNB()\n",
        "model.fit(xtrain,ytrain)\n",
        "print(model.score(xtest,ytest))"
      ],
      "metadata": {
        "colab": {
          "base_uri": "https://localhost:8080/"
        },
        "id": "41CKHeSnLAeh",
        "outputId": "c8562913-0983-4120-f32f-29ce358e9e49"
      },
      "execution_count": null,
      "outputs": [
        {
          "output_type": "stream",
          "name": "stdout",
          "text": [
            "0.9857142857142858\n"
          ]
        }
      ]
    },
    {
      "cell_type": "code",
      "source": [
        "sample=\"the most viewed youtube video of all time?\"\n",
        "data=cv.transform([sample]).toarray()\n",
        "print(model.predict(data))"
      ],
      "metadata": {
        "colab": {
          "base_uri": "https://localhost:8080/"
        },
        "id": "7sanvLITMEjr",
        "outputId": "e2a3fca2-2d7a-4772-a7d9-4b06c9f4cd0d"
      },
      "execution_count": null,
      "outputs": [
        {
          "output_type": "stream",
          "name": "stdout",
          "text": [
            "['Not Spam Comment']\n"
          ]
        }
      ]
    },
    {
      "cell_type": "code",
      "source": [
        "sample=\"Check this out: https://thecleverprogrammer.com/\"\n",
        "data=cv.transform([sample]).toarray()\n",
        "print(model.predict(data))"
      ],
      "metadata": {
        "colab": {
          "base_uri": "https://localhost:8080/"
        },
        "id": "SCzZup4zMivQ",
        "outputId": "b34e6dd2-2563-453b-8e31-60a992e52253"
      },
      "execution_count": null,
      "outputs": [
        {
          "output_type": "stream",
          "name": "stdout",
          "text": [
            "['Spam Comment']\n"
          ]
        }
      ]
    }
  ]
}